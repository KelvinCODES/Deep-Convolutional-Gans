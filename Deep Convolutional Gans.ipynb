{
 "cells": [
  {
   "cell_type": "code",
   "execution_count": 6,
   "metadata": {},
   "outputs": [],
   "source": [
    "import numpy as np\n",
    "import keras\n",
    "import matplotlib.pyplot as plt\n",
    "from keras.optimizers import Adam\n",
    "from keras.models import Sequential\n",
    "from keras.layers import Conv2D, Conv2DTranspose, Reshape, Flatten\n",
    "from keras.layers import Dense, Activation, ELU, BatchNormalization\n",
    "import keras.backend as K\n",
    "%matplotlib inline"
   ]
  },
  {
   "cell_type": "code",
   "execution_count": 7,
   "metadata": {
    "collapsed": true
   },
   "outputs": [],
   "source": [
    "(X_train_dataset, y_train_dataset), (X_test_dataset, y_test_dataset) = keras.datasets.mnist.load_data()"
   ]
  },
  {
   "cell_type": "code",
   "execution_count": 8,
   "metadata": {},
   "outputs": [],
   "source": [
    "def preprocess(x):\n",
    "    x = np.float64(x)\n",
    "    x = x.reshape(-1,28,28,1)\n",
    "    x = 2 * (x / 255 - 0.5)\n",
    "    x = np.clip(x, -1, 1)\n",
    "    return x\n",
    "\n",
    "def deprocess(x):\n",
    "    x = 255 * (x / 2 + 1)\n",
    "    x = np.clip(x, 0, 255)\n",
    "    x = np.uint8(x)\n",
    "    x = x.reshape(28, 28)\n",
    "    return x\n",
    "\n",
    "#preprocess\n",
    "X_train_dataset = np.float64(X_train_dataset)\n",
    "X_train_dataset = X_train_dataset.reshape(-1, 28, 28, 1)\n",
    "X_train_dataset = (X_train_dataset / 255 - 0.5) * 2\n",
    "X_train_dataset = np.clip(X_train_dataset, -1, 1)\n",
    "\n",
    "X_test_dataset = preprocess(X_test_dataset)"
   ]
  },
  {
   "cell_type": "code",
   "execution_count": 9,
   "metadata": {
    "collapsed": true
   },
   "outputs": [],
   "source": [
    "def toggle_train(m, b):\n",
    "    for l in m.layers:\n",
    "        l.trainable = b\n",
    "\n",
    "def create_gen(size, alpha):\n",
    "    return Sequential([\n",
    "        Dense(784, input_shape=(size, )),\n",
    "        Reshape(target_shape=(7,7,16)),\n",
    "        BatchNormalization(),\n",
    "        ELU(alpha=alpha),\n",
    "        \n",
    "        Conv2DTranspose(32, kernel_size=5, strides=2, padding='same'),\n",
    "        BatchNormalization(),\n",
    "        ELU(alpha=alpha),\n",
    "        \n",
    "        Conv2DTranspose(1, kernel_size=5, strides=2, padding='same'),\n",
    "        Activation('tanh')\n",
    "    ])\n",
    "\n",
    "def create_disc(alpha):\n",
    "    return Sequential([\n",
    "        Conv2D(32, kernel_size=5, strides=2, padding='same', input_shape=(28,28,1)),\n",
    "        ELU(alpha=alpha),\n",
    "        Conv2D(16, kernel_size=5, strides=2, padding='same'),\n",
    "        BatchNormalization(),\n",
    "        ELU(alpha=alpha),\n",
    "        \n",
    "        Flatten(),\n",
    "        Dense(784),\n",
    "        BatchNormalization(),\n",
    "        ELU(alpha=alpha),\n",
    "        \n",
    "        Dense(1),\n",
    "        Activation('sigmoid')\n",
    "        \n",
    "    ])\n",
    "\n",
    "def make_Dc_GAN():\n",
    "    size = 100 \n",
    "    alpha = 0.2\n",
    "    beta = 0.9\n",
    "    gen_lr = 0.0001\n",
    "    disc_lr = 0.001\n",
    "    gen = create_gen(size, alpha)\n",
    "    disc = create_disc(alpha)\n",
    "    \n",
    "    disc.compile(optimizer=Adam(lr=disc_lr, beta_1=beta), loss='binary_crossentropy')\n",
    "    gan = Sequential([\n",
    "        gen, disc\n",
    "    ])\n",
    "    gan.compile(optimizer=Adam(lr=gen_lr, beta_1=beta), loss='binary_crossentropy')\n",
    "    return gan, disc, gen\n",
    "    "
   ]
  },
  {
   "cell_type": "code",
   "execution_count": 10,
   "metadata": {},
   "outputs": [
    {
     "name": "stdout",
     "output_type": "stream",
     "text": [
      "WARNING:tensorflow:From /Users/Kelvin/anaconda3/lib/python3.6/site-packages/keras/backend/tensorflow_backend.py:1264: calling reduce_prod (from tensorflow.python.ops.math_ops) with keep_dims is deprecated and will be removed in a future version.\n",
      "Instructions for updating:\n",
      "keep_dims is deprecated, use keepdims instead\n",
      "WARNING:tensorflow:From /Users/Kelvin/anaconda3/lib/python3.6/site-packages/keras/backend/tensorflow_backend.py:1349: calling reduce_mean (from tensorflow.python.ops.math_ops) with keep_dims is deprecated and will be removed in a future version.\n",
      "Instructions for updating:\n",
      "keep_dims is deprecated, use keepdims instead\n"
     ]
    }
   ],
   "source": [
    "label_train_real = np.ones([128,1])\n",
    "label_train_fake = np.zeros([128,1])\n",
    "\n",
    "label_eval_real = np.ones([16,1])\n",
    "label_eval_fake = np.zeros([16,1])\n",
    "\n",
    "gan, disc, gen = make_Dc_GAN()"
   ]
  },
  {
   "cell_type": "code",
   "execution_count": null,
   "metadata": {},
   "outputs": [
    {
     "name": "stderr",
     "output_type": "stream",
     "text": [
      "/Users/Kelvin/anaconda3/lib/python3.6/site-packages/keras/engine/training.py:973: UserWarning: Discrepancy between trainable weights and collected trainable weights, did you set `model.trainable` without calling `model.compile` after ?\n",
      "  'Discrepancy between trainable weights and collected trainable'\n"
     ]
    },
    {
     "name": "stdout",
     "output_type": "stream",
     "text": [
      "On Epoch: 1/100 Discriminator Loss: 1.2636460065841675 Generator Loss: 2.178215742111206\n",
      "On Epoch: 2/100 Discriminator Loss: 3.108980417251587 Generator Loss: 1.889733076095581\n",
      "On Epoch: 3/100 Discriminator Loss: 3.3917529582977295 Generator Loss: 2.624974250793457\n",
      "On Epoch: 4/100 Discriminator Loss: 4.021623611450195 Generator Loss: 3.2389326095581055\n",
      "On Epoch: 5/100 Discriminator Loss: 3.302027940750122 Generator Loss: 3.468402862548828\n",
      "On Epoch: 6/100 Discriminator Loss: 1.6916035413742065 Generator Loss: 0.5833369493484497\n",
      "On Epoch: 7/100 Discriminator Loss: 2.593930959701538 Generator Loss: 0.4666966199874878\n",
      "On Epoch: 8/100 Discriminator Loss: 3.6120922565460205 Generator Loss: 1.4654394388198853\n",
      "On Epoch: 9/100 Discriminator Loss: 1.9053624868392944 Generator Loss: 0.4845495820045471\n",
      "On Epoch: 10/100 Discriminator Loss: 2.0186030864715576 Generator Loss: 1.8239381313323975\n",
      "Images on 10 epoch\n"
     ]
    },
    {
     "data": {
      "image/png": "[encoded data removed]",
      "text/plain": [
       "<matplotlib.figure.Figure at 0x120c22748>"
      ]
     },
     "metadata": {},
     "output_type": "display_data"
    },
    {
     "name": "stdout",
     "output_type": "stream",
     "text": [
      "On Epoch: 11/100 Discriminator Loss: 2.049582004547119 Generator Loss: 2.5628674030303955\n",
      "On Epoch: 12/100 Discriminator Loss: 1.8822174072265625 Generator Loss: 2.509636402130127\n",
      "On Epoch: 13/100 Discriminator Loss: 2.493515968322754 Generator Loss: 0.9595316052436829\n",
      "On Epoch: 14/100 Discriminator Loss: 1.3858691453933716 Generator Loss: 1.8999513387680054\n",
      "On Epoch: 15/100 Discriminator Loss: 4.674810886383057 Generator Loss: 5.8596601486206055\n",
      "On Epoch: 16/100 Discriminator Loss: 1.5921483039855957 Generator Loss: 1.9233620166778564\n",
      "On Epoch: 17/100 Discriminator Loss: 2.506833791732788 Generator Loss: 1.985764741897583\n",
      "On Epoch: 18/100 Discriminator Loss: 3.3516058921813965 Generator Loss: 4.93605899810791\n",
      "On Epoch: 19/100 Discriminator Loss: 1.8418200016021729 Generator Loss: 1.7719806432724\n",
      "On Epoch: 20/100 Discriminator Loss: 5.692300796508789 Generator Loss: 5.479905128479004\n",
      "Images on 20 epoch\n"
     ]
    },
    {
     "data": {
      "image/png": "[encoded data removed]",
      "text/plain": [
       "<matplotlib.figure.Figure at 0x120fc5e10>"
      ]
     },
     "metadata": {},
     "output_type": "display_data"
    },
    {
     "name": "stdout",
     "output_type": "stream",
     "text": [
      "On Epoch: 21/100 Discriminator Loss: 1.727602243423462 Generator Loss: 1.2817941904067993\n",
      "On Epoch: 22/100 Discriminator Loss: 3.6420326232910156 Generator Loss: 0.3111550509929657\n",
      "On Epoch: 23/100 Discriminator Loss: 1.5690783262252808 Generator Loss: 0.6557379961013794\n",
      "On Epoch: 24/100 Discriminator Loss: 3.088960647583008 Generator Loss: 0.0851815715432167\n",
      "On Epoch: 25/100 Discriminator Loss: 4.0339555740356445 Generator Loss: 0.0660812258720398\n",
      "On Epoch: 26/100 Discriminator Loss: 3.1698379516601562 Generator Loss: 0.1593402773141861\n",
      "On Epoch: 27/100 Discriminator Loss: 1.5158530473709106 Generator Loss: 1.5939487218856812\n",
      "On Epoch: 28/100 Discriminator Loss: 1.356060266494751 Generator Loss: 1.453007698059082\n",
      "On Epoch: 29/100 Discriminator Loss: 1.7168910503387451 Generator Loss: 1.8187915086746216\n",
      "On Epoch: 30/100 Discriminator Loss: 2.237504482269287 Generator Loss: 2.1716272830963135\n",
      "Images on 30 epoch\n"
     ]
    },
    {
     "data": {
      "image/png": "[encoded data removed]",
      "text/plain": [
       "<matplotlib.figure.Figure at 0x11e2ec278>"
      ]
     },
     "metadata": {},
     "output_type": "display_data"
    },
    {
     "name": "stdout",
     "output_type": "stream",
     "text": [
      "On Epoch: 31/100 Discriminator Loss: 5.718183517456055 Generator Loss: 6.857691764831543\n",
      "On Epoch: 32/100 Discriminator Loss: 2.8218016624450684 Generator Loss: 2.883517265319824\n",
      "On Epoch: 33/100 Discriminator Loss: 1.9755980968475342 Generator Loss: 2.2868688106536865\n",
      "On Epoch: 34/100 Discriminator Loss: 1.756119966506958 Generator Loss: 1.3436195850372314\n",
      "On Epoch: 35/100 Discriminator Loss: 3.2120766639709473 Generator Loss: 3.938903331756592\n"
     ]
    }
   ],
   "source": [
    "loss = []\n",
    "for epochs in range(100):\n",
    "    #\n",
    "    for iterations in range(len(X_train_dataset)//128):\n",
    "        X_batch_dataset = X_train_dataset[iterations * 128 : (iterations+1) * 128]\n",
    "        #Create samples with a mean of 0 and S.D of 1\n",
    "        random_set = np.random.normal(loc=0, scale=1, size=(128,100))\n",
    "        X_batch_generated = gen.predict_on_batch(random_set)\n",
    "        \n",
    "        #Train disc\n",
    "        toggle_train(disc, True)\n",
    "        disc.train_on_batch(X_batch_dataset, label_train_real * (1-0.1))\n",
    "        disc.train_on_batch(X_batch_generated, label_train_fake)\n",
    "        \n",
    "        #Train gen\n",
    "        toggle_train(disc, False)\n",
    "        gan.train_on_batch(random_set, label_train_real)\n",
    "        \n",
    "    X_eval_dataset = X_test_dataset[np.random.choice(len(X_test_dataset), 16, replace=False)]\n",
    "    random_eval_set = np.random.normal(loc=0, scale=1, size=(16, 100))\n",
    "    X_eval_generated = gen.predict_on_batch(random_eval_set)\n",
    "    \n",
    "    disc_loss = disc.test_on_batch(X_eval_dataset, label_eval_real)\n",
    "    disc_loss += disc.test_on_batch(X_eval_generated, label_eval_fake)\n",
    "    gan_loss = gan.test_on_batch(random_eval_set, label_eval_real)\n",
    "    \n",
    "    loss.append((disc_loss, gan_loss))\n",
    "    \n",
    "    print(\"On Epoch: {}/{} Discriminator Loss: {} Generator Loss: {}\".format(epochs+1, 100, disc_loss, gan_loss))\n",
    "    \n",
    "    if (epochs+1)%10 == 0:\n",
    "        print(\"Images on {} epoch\".format(epochs+1))\n",
    "        size = len(X_eval_generated)\n",
    "        r = 4\n",
    "        c = size//r\n",
    "        plt.figure(figsize=(c, r))\n",
    "        for i in range(size):\n",
    "            img = deprocess(X_eval_generated[i])\n",
    "            plt.subplot(r, c, i+1)\n",
    "            plt.imshow(img, cmap='gray')\n",
    "            plt.xticks([])\n",
    "            plt.yticks([])\n",
    "        plt.tight_layout()\n",
    "        plt.show()\n",
    "loss = np.array(loss)\n",
    "fig, ax = plt.subplots()\n",
    "plt.plot(losses.T[0], label='Discriminator Loss')\n",
    "plt.plot(losses.T[1], label='Generator Loss')\n",
    "plt.title(\"Train Loss\")\n",
    "plt.legend()\n",
    "plt.show()\n",
    "\n"
   ]
  },
  {
   "cell_type": "code",
   "execution_count": null,
   "metadata": {
    "collapsed": true
   },
   "outputs": [],
   "source": []
  }
 ],
 "metadata": {
  "kernelspec": {
   "display_name": "Python 3",
   "language": "python",
   "name": "python3"
  },
  "language_info": {
   "codemirror_mode": {
    "name": "ipython",
    "version": 3
   },
   "file_extension": ".py",
   "mimetype": "text/x-python",
   "name": "python",
   "nbconvert_exporter": "python",
   "pygments_lexer": "ipython3",
   "version": "3.6.3"
  }
 },
 "nbformat": 4,
 "nbformat_minor": 2
}
